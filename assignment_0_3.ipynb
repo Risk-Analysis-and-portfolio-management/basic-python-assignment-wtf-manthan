{
 "cells": [
  {
   "cell_type": "code",
   "execution_count": 5,
   "id": "c66eb473-917c-41fb-9e77-d8835a39c18c",
   "metadata": {},
   "outputs": [],
   "source": [
    "import yfinance as yf\n",
    "import pandas as pd\n",
    "import numpy as np"
   ]
  },
  {
   "cell_type": "code",
   "execution_count": 6,
   "id": "be227b7d-26f2-41b5-9ba2-5ea0000f96c6",
   "metadata": {},
   "outputs": [],
   "source": [
    "def daily_return(data):\n",
    "    daily_returns=pd.Series(index=data.index)\n",
    "    for i in range (1,len(data)):\n",
    "        daily_returns.iloc[i-1]=(data.iloc[i]-data.iloc[i-1])/data.iloc[i-1]\n",
    "    return daily_returns"
   ]
  },
  {
   "cell_type": "code",
   "execution_count": 7,
   "id": "d155d21f-50e8-4c9b-bbe3-93c76b9589be",
   "metadata": {},
   "outputs": [],
   "source": [
    "def analyze_portfolio (tickers,weights,start_date,end_date):\n",
    "    data=yf.download(tickers,start_date,end_date,'1d')['Close']\n",
    "    portfolio_return=(data.iloc[:,0]*daily_return(data.iloc[:,0]))+(data.iloc[:,1]*daily_return(data.iloc[:,1]))+(data.iloc[:,2]*daily_return(data.iloc[:,2]))+(data.iloc[:,3]*daily_return(data.iloc[:,3]))+(data.iloc[:,4]*daily_return(data.iloc[:,4]))\n",
    "    total_portfolio_value=portfolio_return.sum()\n",
    "    return total_portfolio_value                                                                                                                                                                                                     "
   ]
  },
  {
   "cell_type": "code",
   "execution_count": 8,
   "id": "aaa8d254-0012-4361-92ff-0131dd7ee6ae",
   "metadata": {},
   "outputs": [
    {
     "name": "stderr",
     "output_type": "stream",
     "text": [
      "[*********************100%***********************]  5 of 5 completed\n"
     ]
    },
    {
     "data": {
      "text/plain": [
       "430.0770025253296"
      ]
     },
     "execution_count": 8,
     "metadata": {},
     "output_type": "execute_result"
    }
   ],
   "source": [
    "a= analyze_portfolio (tickers=['AAPL', 'MSFT', 'GOOGL', 'TSLA', 'NVDA'], weights=[0.3, 0.2, 0.2, 0.2, 0.1], start_date='2023-01-01', end_date='2023-12-31')\n",
    "a"
   ]
  }
 ],
 "metadata": {
  "kernelspec": {
   "display_name": "Python 3 (ipykernel)",
   "language": "python",
   "name": "python3"
  },
  "language_info": {
   "codemirror_mode": {
    "name": "ipython",
    "version": 3
   },
   "file_extension": ".py",
   "mimetype": "text/x-python",
   "name": "python",
   "nbconvert_exporter": "python",
   "pygments_lexer": "ipython3",
   "version": "3.12.7"
  }
 },
 "nbformat": 4,
 "nbformat_minor": 5
}
